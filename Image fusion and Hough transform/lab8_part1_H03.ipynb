{
  "nbformat": 4,
  "nbformat_minor": 0,
  "metadata": {
    "colab": {
      "name": "lab8_part1_H03.ipynb",
      "provenance": [],
      "collapsed_sections": []
    },
    "kernelspec": {
      "name": "python3",
      "display_name": "Python 3"
    }
  },
  "cells": [
    {
      "cell_type": "code",
      "metadata": {
        "id": "Vh0jrqY673RZ",
        "colab_type": "code",
        "outputId": "6032b4da-1526-4eb2-ccab-d93cb030d7f4",
        "colab": {
          "base_uri": "https://localhost:8080/",
          "height": 35
        }
      },
      "source": [
        "!wget -q -nc https://raw.githubusercontent.com/pseprivamirakbarnejad/cmput206lab/master/Lab8/circle.png\n",
        "!ls"
      ],
      "execution_count": 0,
      "outputs": [
        {
          "output_type": "stream",
          "text": [
            "circle.png  sample_data\n"
          ],
          "name": "stdout"
        }
      ]
    },
    {
      "cell_type": "code",
      "metadata": {
        "id": "bde7VP9A79zz",
        "colab_type": "code",
        "colab": {}
      },
      "source": [
        "import numpy as np\n",
        "import cv2\n",
        "from sklearn.cluster import KMeans\n",
        "from skimage.color import gray2rgb\n",
        "import scipy.ndimage.filters as filters\n",
        "from matplotlib import pyplot as plt"
      ],
      "execution_count": 0,
      "outputs": []
    },
    {
      "cell_type": "markdown",
      "metadata": {
        "id": "EvqwP-lI7_02",
        "colab_type": "text"
      },
      "source": [
        "# Compute accumulator for circle detection\n",
        "\n",
        "To simplify the problem, both circles have radius *`r = 64`* so you only need to find their centers *`(cx, cy)`*\n",
        "\n",
        "1. choose suitable minimum and maximum values for *`cx`* and *`cy`* along with the number of values *`num_cx`* and *`num_cy`* to sample the respective intervals.\n",
        "2. create vectors *`cx_vec`* and *`cy_vec`* of sizes *`num_cx`* and *`num_cy`* respectively containing all possible values of *`cx`* and *`cy`* (hint: *`np.linspace`*)\n",
        "3. create the accumulator array of size *`num_cx`* $\\times$ *`num_cy`* containing all zeros and of type *uint64*\n",
        "4. find locations of all edge pixels in the input image (hint: *`np.nonzero`*)\n",
        "5. iterate over the edge pixels and fill up the accumulator array\n",
        "\n",
        "  5.1. for each edge pixel *`x, y`*, iterate over all values of *`cx`* and calculate the *`cy`* corresponding to each *`cx`* using the equation for circle:\n",
        "\n",
        "  $(x - cx)^2 + (y - cy)^2 = r^2$\n",
        "\n",
        "  where  *`r = 64`*\n",
        "\n",
        "  5.2. find the index of this `cy` within `cy_vec` which will give the column index for accumulator while the index of *`cx`* within *`cx_vec`* gives the corresponding row index.\n",
        "\n",
        "  5.3. increment the accumulator entry corresponding to this row and column index by 1\n",
        "6. The filled accumulator array should look similar to this:\n",
        "<img src=\"https://raw.githubusercontent.com/pseprivamirakbarnejad/cmput206lab/master/Lab8/circle_accumulator.png\">\n",
        "\n"
      ]
    },
    {
      "cell_type": "code",
      "metadata": {
        "id": "_7S4l0Jj8QyQ",
        "colab_type": "code",
        "colab": {}
      },
      "source": [
        "def hough_circle(img, r):\n",
        "  \"\"\"\n",
        "  add your code here\n",
        "  \"\"\"\n",
        "  cx_min = 0\n",
        "  cy_min = 0\n",
        "  cx_max = 250\n",
        "  cy_max = 250\n",
        "  num_cx = 250\n",
        "  num_cy = 250\n",
        "  cx_vec = np.linspace (cx_min,cx_max,num_cx)\n",
        "  cy_vec = np.linspace (cy_min,cy_max,num_cy)\n",
        "  accumulator = np.zeros((num_cx,num_cy),dtype=np.uint64)\n",
        "  y_idxs, x_idxs  = np.nonzero(img)\n",
        "  for i in range(len(x_idxs)):\n",
        "    x = x_idxs[i]\n",
        "    y = y_idxs[i]\n",
        "    for cx_idx in range(num_cx):\n",
        "      cx = cx_vec[cx_idx]\n",
        "      cy = y - np.sqrt(np.absolute(np.square(r) - np.square(x - cx)))\n",
        "      cy_idx = int((cy-cy_min)/(cy_max-cy_min)*(num_cy-1))\n",
        "      accumulator[cx_idx,cy_idx] += 1\n",
        "  return accumulator, cx_vec, cy_vec"
      ],
      "execution_count": 0,
      "outputs": []
    },
    {
      "cell_type": "markdown",
      "metadata": {
        "id": "qW7sR9Ws-uyC",
        "colab_type": "text"
      },
      "source": [
        "# Find the locations of two distinct local maxima in the accumulator array\n",
        "\n",
        "1. choose a suitable integer *`n`* such that top *`n`* maxima will include pixels from both maxima\n",
        "\n",
        "2. find the top *`n`* maxima (hint: *`np.argsort`*) and fill up *`max_idx`* which is *`2 x n`* array containing the *`x, y`* coordinates of these *n* maxima. A binary image showing the maxima may look like this:\n",
        "<img src=\"https://raw.githubusercontent.com/pseprivamirakbarnejad/cmput206lab/master/Lab8/circle_maxima.png\">\n",
        "\n",
        "3. use KMeans clustering to find 2 clusters among these *`n`* points:\n",
        "\n",
        "    https://towardsdatascience.com/machine-learning-algorithms-part-9-k-means-example-in-python-f2ad05ed5203\n",
        "\n",
        "4. obtain the centers of the two clusters (hint: *`kmeans.cluster_centers_`*) that correspond to the indices of the two *`cx, cy`* pairs\n",
        "\n",
        "5. extract the corresponding *`cx, cy`* values from *`cx_vec`* and *`cy_vec`*\n",
        "\n",
        "6. the detected circles when drawn on the input image should closely overlay the source circles:\n",
        "\n",
        "<img src=\"https://raw.githubusercontent.com/pseprivamirakbarnejad/cmput206lab/master/Lab8/circle_detections.png\">\n"
      ]
    },
    {
      "cell_type": "code",
      "metadata": {
        "id": "En_jmP0q_que",
        "colab_type": "code",
        "colab": {}
      },
      "source": [
        "def find_maxima(accumulator, cx_vec, cy_vec):\n",
        "  \"\"\"\n",
        "  add your code here\n",
        "  \"\"\"\n",
        "  idx = np.argsort(accumulator)\n",
        "  n = accumulator[idx]\n",
        "  max_idx = np.array((n,n))\n",
        "  kmeans = KMeans(n_clusters=2, random_state=0).fit(max_idx)\n",
        "  (cx1_idx,cy1_idx),(cx2_idx,cy2_idx) = kmeans.cluster_centers_[:,0],kmeans.cluster_centers_[:,1]\n",
        "  cx1 = cx_vec[cx1_idx]\n",
        "  cy1 = cy_vec[cy1_idx]\n",
        "  cx2 = cx_vec[cx2_idx]\n",
        "  cy2 = cy_vec[cy2_idx]\n",
        "\n",
        "  maxima_img = np.zeros_like(accumulator).astype(np.uint8)\n",
        "  for (x, y) in max_idx:\n",
        "      maxima_img[x, y] = 255\n",
        "\n",
        "  plt.figure()\n",
        "  plt.title('Accumulator Maxima')\n",
        "  plt.imshow(maxima_img, cmap='gray')\n",
        "  plt.axis('off')\n",
        "\n",
        "  return cx1, cy1, cx2, cy2"
      ],
      "execution_count": 0,
      "outputs": []
    },
    {
      "cell_type": "markdown",
      "metadata": {
        "id": "qRwlhPL8_4ZT",
        "colab_type": "text"
      },
      "source": [
        "**Do not change anything in the following code**"
      ]
    },
    {
      "cell_type": "code",
      "metadata": {
        "id": "Y1Bi9SOU__E_",
        "colab_type": "code",
        "colab": {}
      },
      "source": [
        "def draw_circle(t_vec, num_t, r, cx, cy, w, h, out_img, col):\n",
        "    for t_idx in range(num_t):\n",
        "        t = t_vec[t_idx]\n",
        "\n",
        "        t = np.deg2rad(t)\n",
        "\n",
        "        x = r * np.cos(t) + cx\n",
        "        y = r * np.sin(t) + cy\n",
        "\n",
        "        if x > 0 and y > 0 and x < w and y < h:\n",
        "            out_img[int(y), int(x)] = col"
      ],
      "execution_count": 0,
      "outputs": []
    },
    {
      "cell_type": "code",
      "metadata": {
        "id": "hgsTbsZJAB0j",
        "colab_type": "code",
        "outputId": "723f24d9-b5e9-439a-b9cc-9285fd816a4c",
        "colab": {
          "base_uri": "https://localhost:8080/",
          "height": 643
        }
      },
      "source": [
        "# circle radius\n",
        "r = 64\n",
        "\n",
        "img = cv2.imread('circle.png', 0)\n",
        "accumulator, cx_vec, cy_vec = hough_circle(img, r)\n",
        "\n",
        "accumulator_img = accumulator.astype(np.float32) / np.amax(accumulator)\n",
        "\n",
        "cx1, cy1, cx2, cy2 = find_maxima(accumulator, cx_vec, cy_vec)\n",
        "\n",
        "h, w = img.shape\n",
        "\n",
        "t_min, t_max, num_t = 0, 360, 720\n",
        "t_vec = np.linspace(t_min, t_max, num_t)\n",
        "\n",
        "detections_img = gray2rgb(img)\n",
        "draw_circle(t_vec, num_t, r, cx1, cy1, w, h, detections_img, (0, 255, 0))\n",
        "draw_circle(t_vec, num_t, r, cx2, cy2, w, h, detections_img, (0, 255, 0))\n",
        "\n",
        "\n",
        "plt.figure()\n",
        "plt.title('Input image')\n",
        "plt.imshow(img, cmap='gray')\n",
        "plt.axis('off')\n",
        "\n",
        "plt.figure()\n",
        "plt.title('Accumulator')\n",
        "plt.imshow(accumulator_img, cmap='gray')\n",
        "plt.axis('off')\n",
        "\n",
        "plt.figure()\n",
        "plt.title('Detected Circles')\n",
        "plt.imshow(detections_img, cmap='gray')\n",
        "plt.axis('off')"
      ],
      "execution_count": 0,
      "outputs": [
        {
          "output_type": "error",
          "ename": "ValueError",
          "evalue": "ignored",
          "traceback": [
            "\u001b[0;31m---------------------------------------------------------------------------\u001b[0m",
            "\u001b[0;31mValueError\u001b[0m                                Traceback (most recent call last)",
            "\u001b[0;32m<ipython-input-19-3056ba58df7d>\u001b[0m in \u001b[0;36m<module>\u001b[0;34m()\u001b[0m\n\u001b[1;32m      6\u001b[0m \u001b[0maccumulator_img\u001b[0m \u001b[0;34m=\u001b[0m \u001b[0maccumulator\u001b[0m\u001b[0;34m.\u001b[0m\u001b[0mastype\u001b[0m\u001b[0;34m(\u001b[0m\u001b[0mnp\u001b[0m\u001b[0;34m.\u001b[0m\u001b[0mfloat32\u001b[0m\u001b[0;34m)\u001b[0m \u001b[0;34m/\u001b[0m \u001b[0mnp\u001b[0m\u001b[0;34m.\u001b[0m\u001b[0mamax\u001b[0m\u001b[0;34m(\u001b[0m\u001b[0maccumulator\u001b[0m\u001b[0;34m)\u001b[0m\u001b[0;34m\u001b[0m\u001b[0;34m\u001b[0m\u001b[0m\n\u001b[1;32m      7\u001b[0m \u001b[0;34m\u001b[0m\u001b[0m\n\u001b[0;32m----> 8\u001b[0;31m \u001b[0mcx1\u001b[0m\u001b[0;34m,\u001b[0m \u001b[0mcy1\u001b[0m\u001b[0;34m,\u001b[0m \u001b[0mcx2\u001b[0m\u001b[0;34m,\u001b[0m \u001b[0mcy2\u001b[0m \u001b[0;34m=\u001b[0m \u001b[0mfind_maxima\u001b[0m\u001b[0;34m(\u001b[0m\u001b[0maccumulator\u001b[0m\u001b[0;34m,\u001b[0m \u001b[0mcx_vec\u001b[0m\u001b[0;34m,\u001b[0m \u001b[0mcy_vec\u001b[0m\u001b[0;34m)\u001b[0m\u001b[0;34m\u001b[0m\u001b[0;34m\u001b[0m\u001b[0m\n\u001b[0m\u001b[1;32m      9\u001b[0m \u001b[0;34m\u001b[0m\u001b[0m\n\u001b[1;32m     10\u001b[0m \u001b[0mh\u001b[0m\u001b[0;34m,\u001b[0m \u001b[0mw\u001b[0m \u001b[0;34m=\u001b[0m \u001b[0mimg\u001b[0m\u001b[0;34m.\u001b[0m\u001b[0mshape\u001b[0m\u001b[0;34m\u001b[0m\u001b[0;34m\u001b[0m\u001b[0m\n",
            "\u001b[0;32m<ipython-input-17-d247cc005887>\u001b[0m in \u001b[0;36mfind_maxima\u001b[0;34m(accumulator, cx_vec, cy_vec)\u001b[0m\n\u001b[1;32m      6\u001b[0m   \u001b[0mn\u001b[0m \u001b[0;34m=\u001b[0m \u001b[0maccumulator\u001b[0m\u001b[0;34m[\u001b[0m\u001b[0midx\u001b[0m\u001b[0;34m]\u001b[0m\u001b[0;34m\u001b[0m\u001b[0;34m\u001b[0m\u001b[0m\n\u001b[1;32m      7\u001b[0m   \u001b[0mmax_idx\u001b[0m \u001b[0;34m=\u001b[0m \u001b[0mnp\u001b[0m\u001b[0;34m.\u001b[0m\u001b[0marray\u001b[0m\u001b[0;34m(\u001b[0m\u001b[0;34m(\u001b[0m\u001b[0mn\u001b[0m\u001b[0;34m,\u001b[0m\u001b[0mn\u001b[0m\u001b[0;34m)\u001b[0m\u001b[0;34m)\u001b[0m\u001b[0;34m\u001b[0m\u001b[0;34m\u001b[0m\u001b[0m\n\u001b[0;32m----> 8\u001b[0;31m   \u001b[0mkmeans\u001b[0m \u001b[0;34m=\u001b[0m \u001b[0mKMeans\u001b[0m\u001b[0;34m(\u001b[0m\u001b[0mn_clusters\u001b[0m\u001b[0;34m=\u001b[0m\u001b[0;36m2\u001b[0m\u001b[0;34m,\u001b[0m \u001b[0mrandom_state\u001b[0m\u001b[0;34m=\u001b[0m\u001b[0;36m0\u001b[0m\u001b[0;34m)\u001b[0m\u001b[0;34m.\u001b[0m\u001b[0mfit\u001b[0m\u001b[0;34m(\u001b[0m\u001b[0mmax_idx\u001b[0m\u001b[0;34m)\u001b[0m\u001b[0;34m\u001b[0m\u001b[0;34m\u001b[0m\u001b[0m\n\u001b[0m\u001b[1;32m      9\u001b[0m   \u001b[0;34m(\u001b[0m\u001b[0mcx1_idx\u001b[0m\u001b[0;34m,\u001b[0m\u001b[0mcy1_idx\u001b[0m\u001b[0;34m)\u001b[0m\u001b[0;34m,\u001b[0m\u001b[0;34m(\u001b[0m\u001b[0mcx2_idx\u001b[0m\u001b[0;34m,\u001b[0m\u001b[0mcy2_idx\u001b[0m\u001b[0;34m)\u001b[0m \u001b[0;34m=\u001b[0m \u001b[0mkmeans\u001b[0m\u001b[0;34m.\u001b[0m\u001b[0mcluster_centers_\u001b[0m\u001b[0;34m[\u001b[0m\u001b[0;34m:\u001b[0m\u001b[0;34m,\u001b[0m\u001b[0;36m0\u001b[0m\u001b[0;34m]\u001b[0m\u001b[0;34m,\u001b[0m\u001b[0mkmeans\u001b[0m\u001b[0;34m.\u001b[0m\u001b[0mcluster_centers_\u001b[0m\u001b[0;34m[\u001b[0m\u001b[0;34m:\u001b[0m\u001b[0;34m,\u001b[0m\u001b[0;36m1\u001b[0m\u001b[0;34m]\u001b[0m\u001b[0;34m\u001b[0m\u001b[0;34m\u001b[0m\u001b[0m\n\u001b[1;32m     10\u001b[0m   \u001b[0mcx1\u001b[0m \u001b[0;34m=\u001b[0m \u001b[0mcx_vec\u001b[0m\u001b[0;34m[\u001b[0m\u001b[0mcx1_idx\u001b[0m\u001b[0;34m]\u001b[0m\u001b[0;34m\u001b[0m\u001b[0;34m\u001b[0m\u001b[0m\n",
            "\u001b[0;32m/usr/local/lib/python3.6/dist-packages/sklearn/cluster/_kmeans.py\u001b[0m in \u001b[0;36mfit\u001b[0;34m(self, X, y, sample_weight)\u001b[0m\n\u001b[1;32m    857\u001b[0m         \u001b[0morder\u001b[0m \u001b[0;34m=\u001b[0m \u001b[0;34m\"C\"\u001b[0m \u001b[0;32mif\u001b[0m \u001b[0mself\u001b[0m\u001b[0;34m.\u001b[0m\u001b[0mcopy_x\u001b[0m \u001b[0;32melse\u001b[0m \u001b[0;32mNone\u001b[0m\u001b[0;34m\u001b[0m\u001b[0;34m\u001b[0m\u001b[0m\n\u001b[1;32m    858\u001b[0m         X = check_array(X, accept_sparse='csr', dtype=[np.float64, np.float32],\n\u001b[0;32m--> 859\u001b[0;31m                         order=order, copy=self.copy_x)\n\u001b[0m\u001b[1;32m    860\u001b[0m         \u001b[0;31m# verify that the number of samples given is larger than k\u001b[0m\u001b[0;34m\u001b[0m\u001b[0;34m\u001b[0m\u001b[0;34m\u001b[0m\u001b[0m\n\u001b[1;32m    861\u001b[0m         \u001b[0;32mif\u001b[0m \u001b[0m_num_samples\u001b[0m\u001b[0;34m(\u001b[0m\u001b[0mX\u001b[0m\u001b[0;34m)\u001b[0m \u001b[0;34m<\u001b[0m \u001b[0mself\u001b[0m\u001b[0;34m.\u001b[0m\u001b[0mn_clusters\u001b[0m\u001b[0;34m:\u001b[0m\u001b[0;34m\u001b[0m\u001b[0;34m\u001b[0m\u001b[0m\n",
            "\u001b[0;32m/usr/local/lib/python3.6/dist-packages/sklearn/utils/validation.py\u001b[0m in \u001b[0;36mcheck_array\u001b[0;34m(array, accept_sparse, accept_large_sparse, dtype, order, copy, force_all_finite, ensure_2d, allow_nd, ensure_min_samples, ensure_min_features, warn_on_dtype, estimator)\u001b[0m\n\u001b[1;32m    572\u001b[0m         \u001b[0;32mif\u001b[0m \u001b[0;32mnot\u001b[0m \u001b[0mallow_nd\u001b[0m \u001b[0;32mand\u001b[0m \u001b[0marray\u001b[0m\u001b[0;34m.\u001b[0m\u001b[0mndim\u001b[0m \u001b[0;34m>=\u001b[0m \u001b[0;36m3\u001b[0m\u001b[0;34m:\u001b[0m\u001b[0;34m\u001b[0m\u001b[0;34m\u001b[0m\u001b[0m\n\u001b[1;32m    573\u001b[0m             raise ValueError(\"Found array with dim %d. %s expected <= 2.\"\n\u001b[0;32m--> 574\u001b[0;31m                              % (array.ndim, estimator_name))\n\u001b[0m\u001b[1;32m    575\u001b[0m \u001b[0;34m\u001b[0m\u001b[0m\n\u001b[1;32m    576\u001b[0m         \u001b[0;32mif\u001b[0m \u001b[0mforce_all_finite\u001b[0m\u001b[0;34m:\u001b[0m\u001b[0;34m\u001b[0m\u001b[0;34m\u001b[0m\u001b[0m\n",
            "\u001b[0;31mValueError\u001b[0m: Found array with dim 4. Estimator expected <= 2."
          ]
        }
      ]
    }
  ]
}