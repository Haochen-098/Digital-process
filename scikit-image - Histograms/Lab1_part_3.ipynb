{
  "nbformat": 4,
  "nbformat_minor": 0,
  "metadata": {
    "colab": {
      "name": "Lab1_part_3.ipynb",
      "provenance": []
    },
    "kernelspec": {
      "name": "python3",
      "display_name": "Python 3"
    }
  },
  "cells": [
    {
      "cell_type": "code",
      "metadata": {
        "id": "wya9MozKS_ZR",
        "colab_type": "code",
        "outputId": "78986a0e-1882-4bc0-fad8-82a8a6df4a3e",
        "colab": {
          "base_uri": "https://localhost:8080/",
          "height": 34
        }
      },
      "source": [
        "!wget -q -nc https://raw.githubusercontent.com/pseprivamirakbarnejad/cmput206lab/master/Lab1/day.jpg\n",
        "!wget -q -nc https://raw.githubusercontent.com/pseprivamirakbarnejad/cmput206lab/master/Lab1/night.jpg\n",
        "!ls"
      ],
      "execution_count": 0,
      "outputs": [
        {
          "output_type": "stream",
          "text": [
            "day.jpg  night.jpg  sample_data\n"
          ],
          "name": "stdout"
        }
      ]
    },
    {
      "cell_type": "code",
      "metadata": {
        "id": "MYzj4Ux9TCc2",
        "colab_type": "code",
        "outputId": "f8f832fe-c288-40aa-90d0-5028ca05f6ff",
        "colab": {
          "base_uri": "https://localhost:8080/",
          "height": 34
        }
      },
      "source": [
        "import numpy as np\n",
        "import skimage.exposure\n",
        "import skimage.io\n",
        "import matplotlib.pyplot as plt\n",
        "from skimage.color import rgb2gray\n",
        "\n",
        "d_image = skimage.io.imread('day.jpg')\n",
        "d_image = rgb2gray(d_image)\n",
        "n_image = skimage.io.imread('night.jpg')\n",
        "n_image = rgb2gray(n_image)\n",
        "d_hist= skimage.exposure.histogram(d_image,nbins=256)\n",
        "n_hist= skimage.exposure.histogram(n_image,nbins=256)\n",
        "normal_d = d_hist/sum(d_hist[0])\n",
        "normal_n = n_hist/sum(n_hist[0])\n",
        "BC = sum(np.sqrt(np.multiply(normal_d,normal_n )))\n",
        "print (\"Bhattacharyya Coefficient is \" + str(BC[0]))"
      ],
      "execution_count": 0,
      "outputs": [
        {
          "output_type": "stream",
          "text": [
            "Bhattacharyya Coefficient is 0.12490920150990242\n"
          ],
          "name": "stdout"
        }
      ]
    }
  ]
}